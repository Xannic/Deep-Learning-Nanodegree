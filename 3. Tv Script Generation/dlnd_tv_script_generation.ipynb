{
 "cells": [
  {
   "cell_type": "markdown",
   "metadata": {},
   "source": [
    "# TV Script Generation\n",
    "In this project, you'll generate your own [Simpsons](https://en.wikipedia.org/wiki/The_Simpsons) TV scripts using RNNs.  You'll be using part of the [Simpsons dataset](https://www.kaggle.com/wcukierski/the-simpsons-by-the-data) of scripts from 27 seasons.  The Neural Network you'll build will generate a new TV script for a scene at [Moe's Tavern](https://simpsonswiki.com/wiki/Moe's_Tavern).\n",
    "## Get the Data\n",
    "The data is already provided for you.  You'll be using a subset of the original dataset.  It consists of only the scenes in Moe's Tavern.  This doesn't include other versions of the tavern, like \"Moe's Cavern\", \"Flaming Moe's\", \"Uncle Moe's Family Feed-Bag\", etc.."
   ]
  },
  {
   "cell_type": "code",
   "execution_count": 1,
   "metadata": {},
   "outputs": [],
   "source": [
    "\"\"\"\n",
    "DON'T MODIFY ANYTHING IN THIS CELL\n",
    "\"\"\"\n",
    "import helper\n",
    "\n",
    "data_dir = './data/simpsons/moes_tavern_lines.txt'\n",
    "text = helper.load_data(data_dir)\n",
    "# Ignore notice, since we don't use it for analysing the data\n",
    "text = text[81:]"
   ]
  },
  {
   "cell_type": "markdown",
   "metadata": {},
   "source": [
    "## Explore the Data\n",
    "Play around with `view_sentence_range` to view different parts of the data."
   ]
  },
  {
   "cell_type": "code",
   "execution_count": 2,
   "metadata": {},
   "outputs": [
    {
     "name": "stdout",
     "output_type": "stream",
     "text": [
      "Dataset Stats\n",
      "Roughly the number of unique words: 11492\n",
      "Number of scenes: 262\n",
      "Average number of sentences in each scene: 15.251908396946565\n",
      "Number of lines: 4258\n",
      "Average number of words in each line: 11.50164396430249\n",
      "\n",
      "The sentences 1000 to 1200:\n",
      "Barney_Gumble: (HORRIFIED) Oh, no. Oh, no. Not tonight. Not tonight!\n",
      "Duffman: (PARTY VOICE) Are you ready to get Duffed?\n",
      "Lenny_Leonard: Hey, it's Duffman! The guy in a costume that creates awareness of Duff!\n",
      "Duffman: Duffman wants to party down with the man who sent in ten thousand Duff labels to bring me here today. I've got a bottomless mug of new \"Duff Extra Cold\" for... (READS CARD) BARNEY GUMBEL!\n",
      "Cheerleaders: (CHEERS AND:) Chug! Chug! Chug! Chug!\n",
      "Barney_Gumble: (STRAINING) I can't! I'm the designated driver!\n",
      "Duffman: (PERFUNCTORY, BRUSQUE) Ehhh... That's swell. Duff wholeheartedly supports the designated driver program... Now, who wants to party?!\n",
      "Moe_Szyslak: Face it, Homer, the car is gone. Barney ain't never comin' back.\n",
      "Barney_Gumble: (SHAKY) All I remember about the last two months is giving a guest lecture at Villanova. (BEAT) Or maybe it was a streetcorner.\n",
      "Homer_Simpson: (QUIET ANGER) So you lost my car, eh? Well, that's just grand. I ought to punch you in the nose, but I have to pick up my kids at school.\n",
      "\n",
      "\n",
      "Moe_Szyslak: (COVERING) Uh, that's a parasol.\n",
      "Homer_Simpson: Well, Moe, this is it. Today's the day I get my new air conditioner.\n",
      "Moe_Szyslak: Congratulations. Who's the little chick?\n",
      "Lisa_Simpson: I'm Lisa!\n",
      "Homer_Simpson: (TO MOE, PROUDLY) She has a gift.\n",
      "Lisa_Simpson: You have thirteen pickled eggs in this jar! (CUTE) And one cockroach!\n",
      "Moe_Szyslak: (DISPLEASED CHUCKLE) Who are you, sweetheart, the health inspector?\n",
      "Man_At_Bar: No, but I am.\n",
      "Moe_Szyslak: Uh... here, have a margarita.\n",
      "\n",
      "\n",
      "Homer_Simpson: But you can't leave! We're scammin' an old lady at my house and I need a place to hide out.\n",
      "Moe_Szyslak: Ah, sorry Homer, I've been planning this vacation for years. I'm finally gonna see Easter Island.\n",
      "Homer_Simpson: Oh, right. With the giant heads.\n",
      "Moe_Szyslak: With the what now?\n",
      "Lenny_Leonard: Hey, you seen Apu lately? He looks terrible.\n",
      "Carl_Carlson: Yeah, rumor has it Marge threw him out.\n",
      "Barney_Gumble: Aw, tough break. She's a beautiful lady.\n",
      "Moe_Szyslak: You got that straight, Barn.\n",
      "Barney_Gumble: (RAISING GLASSES) To Marge!\n",
      "Homer_Simpson: Moe, what do you recommend for severe depression?\n",
      "Moe_Szyslak: Booze, booze and more booze.\n",
      "Lenny_Leonard: Ha! Nothin' like a depressant to chase the blues away.\n",
      "Lenny_Leonard: Yeah, you got that... / Oh yeah. / Uh-huh.\n",
      "Apu_Nahasapeemapetilon: Oof, Manjula and I have not seen each other in twenty years. Two people cannot fall in love sight-unseen.\n",
      "Moe_Szyslak: Hey, hold on there! I'm countin' on that.\n",
      "Apu_Nahasapeemapetilon: Well, just twenty-four hours of freedom left...\n",
      "Homer_Simpson: (CHECKING WATCH, CHIPPER) Actually, it's more like twelve. No, I'm so stupid, seven. It's seven hours. You have seven hours. (SHOWING APU WATCH) See? Seven.\n",
      "Apu_Nahasapeemapetilon: (SAD MOAN, THEN SINGING DIRGE-LIKE) \"WELL, I'M HOT BLOODED / CHECK IT AND SEE / I'VE GOT A FEVER OF A HUNDRED AND THREE...\"\n",
      "Homer_Simpson: C'mon. You shouldn't be spending your last hours of bachelorhood in a dump like this.\n",
      "Homer_Simpson: You should be livin' like there's no tomorrow. And I know just the place.\n",
      "Homer_Simpson: Ahh. Is this the life, or what?\n",
      "Jasper_Beardly: (REACHING FOR A SWITCH) You want me to turn on the bubbles?\n",
      "\n",
      "\n",
      "Moe_Szyslak: Geez, this hot-rod is souped up six ways from Sunday. Never had you figured for a gear-head, Homer.\n",
      "Homer_Simpson: (CASUAL) Oh, yeah. I'm a real expert.\n",
      "Moe_Szyslak: What is that? A six-barrel Hollye carb?\n",
      "Homer_Simpson: You betcha.\n",
      "Moe_Szyslak: Edelbrock intakes...\n",
      "Homer_Simpson: Nothin' but.\n",
      "Moe_Szyslak: Meyerhof lifters...\n",
      "Homer_Simpson: Oh yeah.\n",
      "Moe_Szyslak: I made that last one up.\n",
      "Homer_Simpson: (KEEPING DIGNITY) I see.\n",
      "\n",
      "\n",
      "Moe_Szyslak: Sounds like you're having a rough Christmas, Homer. You know what I blame this on the breakdown of? Society.\n",
      "Homer_Simpson: (DRUNK) Yeah, you're right, Moe. You're always Moe.\n",
      "Barney_Gumble: Homer, look! Your house is on TV!\n",
      "Homer_Simpson: (PISSED) You take that back, Barney!\n",
      "Moe_Szyslak: Nah, he's right, Homer.\n",
      "Homer_Simpson: Stay out of this, old man.\n",
      "Kent_Brockman: Dateline: Kent Brockman. I'm here at the scene of the Christmas burglary, where a creature was stirring last night. And what he was \"stirring\" was \"up trouble.\"\n",
      "Kent_Brockman: Is your husband or lover here, ma'am?\n",
      "Marge_Simpson: No. My husband is... at church.\n",
      "Homer_Simpson: (INTOXICATED SMILE) Aw, that's my girl. I love you, Marjorie.\n",
      "Moe_Szyslak: Yeah, she's quite a gal.\n",
      "Homer_Simpson: (THREATENING) You shut up.\n",
      "Kent_Brockman: So when you realized Christmas was ruined, how did you feel?\n",
      "Marge_Simpson: How do you think I felt?\n",
      "Kent_Brockman: Absolutely devastated. (TURNS TO CAMERA) \"Absolutely devastated.\" The words of a heart-broken mother. For there will be no fire truck for little Bart. No sweater for little Lisa. No Cajun sausage for little Homer...\n",
      "Kent_Brockman: (SNEERING) So while you're home today eating your sweet, sweet holiday turkey, I hope you'll all choke just a little bit.\n",
      "Moe_Szyslak: So this was all a scam. (DISGUSTED) And on Christmas.\n",
      "Barney_Gumble: Yeah. Jesus must be spinning in his grave.\n",
      "\n",
      "\n",
      "Chief_Wiggum: Ah, isn't that illegal?\n",
      "Krusty_the_Clown: (ENTHUSIASTICALLY) Hey, hey!\n",
      "Marge_Simpson: (READING SIGN) Four drink minimum?\n",
      "Homer_Simpson: (PATS STOMACH) I'll cover ya, honey.\n",
      "Moe_Szyslak: Hi. How you folks doin'? I'm Moe. Or as the ladies like to call me, \"Hey you, behind the bushes.\" (TAPPING MIC) Uh, is this thing on?\n",
      "Barney_Gumble: No. Sorry, Moe.\n",
      "Moe_Szyslak: (CLEARS THROAT) And now, without further Apu...\n",
      "Apu_Nahasapeemapetilon: Woo! I have been zinged and I love it.\n",
      "Moe_Szyslak: ...the last angry clown, the man who spews truth from every orifice, ladies and gentlemen... Krusty!\n",
      "Krusty_the_Clown: (COOL INDIFFERENCE) Yeah, yeah, yeah.\n",
      "Krusty_the_Clown: So, I'm watchin' TV today...\n",
      "Homer_Simpson: (CLAPPING) Woo! TV! Yeah!\n",
      "Krusty_the_Clown: All I keep seein' is dead celebrities hawkin' products! They got poor Vincent Price floatin' around on a toilet cake tellin' me about the \"horrors\" of an unfresh bowl...\n",
      "Krusty_the_Clown: And I'll tell ya somethin' else, I do not believe Winston Churchill would eat at Der Wienerschnitzel!\n",
      "Krusty_the_Clown: There's nothing those Madison Avenue grave robbers won't do to get us to buy their crap!\n",
      "Crowd: (VARIOUS) Yeah! / Right On, Krusty! / You Tell 'Em!\n",
      "Homer_Simpson: (WITH CROWD) Impeach Churchill!\n",
      "Krusty_the_Clown: Well, here's one dollar those crooks aren't gonna get their hands on.\n",
      "Krusty_the_Clown: I don't care if it is illegal. I'm makin' a stand here. Who's with me?\n",
      "Lenny_Leonard: I am! I work like a dog for this!\n",
      "Agnes_Skinner: Oh, you're burning it all wrong, Seymour.\n",
      "Seymour_Skinner: It's my allowance, Mother, and I'll burn it the way I want.\n",
      "Homer_Simpson: Take that, you greedy fat cats. (TO MARGE) Marge, gimme your purse.\n",
      "Marge_Simpson: (SOTTO; DESPERATE) Here's $42 -- it's everything I have. Run home and bury it in the yard.\n",
      "Lisa_Simpson: I love you, Mom!\n",
      "Crowd: You tell 'em, Krusty. / Screw everyone! / Etc.\n",
      "Businessman_#1: Wow, they're hanging on his every word. (TURNS) Are you thinking what I'm thinking?\n",
      "Businessman_#2: I hope so.\n",
      "Businessman_#1: (FIRMLY) I thought I made myself clear in Boston.\n",
      "Lenny_Leonard: (TO HOMER) I brought a bag of money in case he wants us to burn it again.\n",
      "Homer_Simpson: I hope he tells us to burn our pants. These things are drivin' me nuts!\n",
      "Krusty_the_Clown: So this afternoon, two suits come up to me and ask me to endorse some new sports utility vehicle.\n",
      "Crowd: Oooo! / What did you do? / (LAUGHS)\n",
      "Homer_Simpson: (CALLING OUT) Don't you hate pants?\n",
      "Krusty_the_Clown: (IGNORING HOMER) I threw those two creeps out on their ass.\n",
      "Crowd: Yeah! / Woo! / Go Krusty! / Woo hoo hoo!\n",
      "Krusty_the_Clown: Then, they followed me home, begging me to take a test drive. And let me tell you, (BEAT) talk about roomy! The Canyonero combines the smooth handling of a European sports car with the rugged driveability of a sturdy 4X4.\n",
      "Crowd: (CONFUSED NOISES) / Huh? / What?\n",
      "Carl_Carlson: (CALLING OUT) Hey, Krusty, what are you talking about? I, I thought you said those guys were creeps!\n",
      "Krusty_the_Clown: Yeah, but that was before I got to know 'em. And I'm tellin' ya', the Canyonero is the Cadillac of automobiles. That's Canyonero.\n",
      "Crowd: Boo! Etc.\n",
      "Krusty_the_Clown: Wait! Where you goin'? I still got plenty of beefs! Fat-free yogurt!\n",
      "Krusty_the_Clown: Th-Th-Th-The quality of computer porn! (GROAN)\n",
      "Jay: I knew I shoulda gone on first.\n",
      "Bart_Simpson: I don't get it, Krusty. You said you would never be a shill again.\n",
      "Krusty_the_Clown: (INDIFFERENT SOUND) I learned something about myself tonight, kid. (THOUGHTFULLY) It ain't comedy that's in my blood. It's selling out.\n",
      "Krusty_the_Clown: C'mon, I'll give you a ride home.\n",
      "Bart_Simpson: Wow, this is roomy!\n",
      "HANK_WILLIAMS_JR.: CAN YOU NAME THE TRUCK WITH FOUR WHEEL DRIVE? / SMELLS LIKE A STEAK AND SEATS 35... / CANYONERO. (WHIP CRACK) CANYONERO. (WHIP CRACK) WELL IT GOES REAL SLOW WITH THE HAMMER DOWN / IT'S THE COUNTRY-FRIED TRUCK ENDORSED BY A CLOWN. / CANYONERO....\n",
      "Announcer: (QUICKLY) Federal highway commission has ruled the Canyonero unsafe for highway or city driving.\n",
      "Chorus: (QUICKLY) Canyonero!\n",
      "HANK_WILLIAMS_JR.: TWELVE YARDS LONG, TWO LANES WIDE. / SIXTY-FIVE TONS OF AMERICAN PRIDE. / CANYONERO (WHIP CRACK) CANYONERO (WHIP CRACK)\n",
      "HANK_WILLIAMS_JR.: TOP OF THE LINE IN UTILITY SPORTS. / UNEXPLAINED FIRES ARE A MATTER FOR THE COURTS. / CANYONERO (WHIP CRACK) CANYONERO (WHIP CRACK)\n",
      "HANK_WILLIAMS_JR.: SHE BLINDS EVERYBODY WITH HER SUPER HIGH BEAM. / SHE'S A SQUIRREL SQUASHING, DEER SMACKIN', DRIVIN' MACHINE. CANYONERO....\n",
      "HANK_WILLIAMS_JR.: CANYONER-OOOO... HYAHH!! CANYONERO!\n",
      "HANK_WILLIAMS_JR.: Whoa, Canyonero! Whoa!\n",
      "\n",
      "\n",
      "Homer_Simpson: (TOASTING) To Marge. And all the blissful years I've spent hiding from her in this bar.\n",
      "Barflies: Hear, hear!\n",
      "Moe_Szyslak: Yeah. Big deal. You got a wife. I got a rash. Who cares? (OFF HOMER'S HURT LOOK) Ech, I'm sorry, Homer. It's just, it's been four years since my last date with a whatchacallit, uh, woman.\n",
      "Homer_Simpson: Whatever happened to your mail order bride?\n",
      "Moe_Szyslak: Ah, she got homesick for her old life, diving for tourist pennies in a Micronesian swamp.\n",
      "Homer_Simpson: So her career got in the way.\n",
      "Moe_Szyslak: Yeah, I don't blame her. (LOOKING IN MIRROR) No girl wants to end up with a Joe Puke-pail like me.\n",
      "Homer_Simpson: Now, now, I won't hear of it, Moe. You're a fabulous catch.\n",
      "Moe_Szyslak: (SNORT) Yeah, well, uh, how come I ain't fendin' off movie starlets with a pointy stick?\n",
      "Homer_Simpson: Oh, it's probably due to your ugliness. But that doesn't mean we can't find you a woman. Come on, we're goin' to the darkest bar in town.\n",
      "Moe_Szyslak: (INTO PHONE) Yeah, I wanna send her two dozen roses. And I wanna put something nice on the card, like, um, \"Renee, my treasure...\"\n",
      "Moe_Szyslak: Shut up, or I'll ram a stool down your throat! (INTO PHONE) Ah, nah, nah, no, I don't want that on the card... Well, lemme hear how it sounds... Nah, nah, take it out. Take it out. And charge it to my Players Club card... Maxed out?\n",
      "Moe_Szyslak: Look, I really need these flowers, okay? I got a real tenuous hold on my girlfriend here... Hello? Hello?\n",
      "Moe_Szyslak: (SIGH) Well, that's it. It's all over. Renee ain't gonna wanna hang around with no Joe Pinchpenny.\n",
      "Homer_Simpson: Aw, come on, Moe. Think of all you have to offer besides money.\n",
      "Moe_Szyslak: (THINKS FOR A BEAT) Hmmm... I need cash, and lots of it. Um, all right, everybody, I'm calling in your bar tabs.\n",
      "Moe_Szyslak: Ya bunch of ungrateful ingrates! Ya--\n",
      "Moe_Szyslak: (DISTRAUGHT) Ah, Homer, what am I gonna do? Renee's my last chance for true love.\n",
      "Homer_Simpson: If you really need money, you could sell a kidney, or maybe even your car.\n",
      "Moe_Szyslak: Nah, my car ain't worth nothin'. (GETTING AN IDEA) But it is insured... For five grand... Homer, I need your help. You gotta steal this car and wreck it for me.\n",
      "Homer_Simpson: Steal? Oh no, you got the wrong guy.\n",
      "Homer_Simpson: (AWKWARDLY) You dropped somethin'.\n",
      "Moe_Szyslak: C'mon, Homer! I'm one of your dearest friends! When everybody said you were too drunk to drive that time, who gave you your keys?\n",
      "Homer_Simpson: (WARILY) Oh, you did. But -- I still don't know... I can just imagine what Marge would say.\n",
      "Marge_Simpson: Homer, I insist you steal that car.\n",
      "Homer_Simpson: (FIRMLY) I'll do it!\n",
      "Moe_Szyslak: Okay, here's the plan. (PLACING ON BAR) This model car represents my car, huh? And this olive is you. Now...\n",
      "Homer_Simpson: Mmmm... me.\n",
      "Moe_Szyslak: Hey! Hey! Aw, that's great. Now the car's gonna have to represent you, and, uh, this little toy man will represent the car.\n",
      "Moe_Szyslak: All right, forget it!\n",
      "Moe_Szyslak: Listen up, here. Tomorrow night at eight, you go down to the waterfront and you \"steal\" my car.\n",
      "Homer_Simpson: What about the cops?\n",
      "Moe_Szyslak: That's the beauty part. Every cop in town's gonna be on the Police Department's Moonlight Charity Cruise. And I'm gonna be right there with 'em.\n",
      "Homer_Simpson: So, as soon as you get back, we steal the car, right?\n",
      "Moe_Szyslak: Righ-- No, no. Wrong. Listen. While I'm on the boat with the perfect alibi, you steal my car, and park it on the railroad tracks. Then when the 10:15 train comes along...\n",
      "Moe_Szyslak: WHAM! The insurance company pays off five thousand clams. I keep showing Renee the sweet life.\n",
      "Homer_Simpson: You're a genius, Moe. All your troubles will soon be over for a couple months.\n",
      "Moe_Szyslak: ... So like a coward I let Homer take the rap for the whole scam. And now the only way to clear him is to turn myself in.\n",
      "Renee: I-I don't know what to say. I'm shocked. I mean you broke the law and betrayed a friend...\n",
      "Moe_Szyslak: Yeah, you're right. You shouldn't be wasting your time with a low-life like me.\n",
      "Renee: (GIVING IN) Oh, Moe, don't say that. Y-You made a mistake, but at least you're trying to set things straight.\n",
      "Moe_Szyslak: Yeah, that's true. That's true, baby. Hmf, it'll be hell being locked away from ya, but I guess I gotta take my medicine. (SUDDEN THOUGHT) Unless... Unless, I send a letter to the police clearing Homer...\n",
      "Renee: (HOPEFUL) Yeah...\n",
      "Moe_Szyslak: (EXCITED) Then we go to the graveyard and steal two corpses...\n",
      "Renee: (STUNNED) Oh my God.\n",
      "Moe_Szyslak: (ON A ROLL) We-we-we switch clothes with them, leave 'em in the bar. Then we pour some brandy around. Like so...\n",
      "Renee: Yeah, would you hand me my keys?\n",
      "Moe_Szyslak: Uh, yeah. Here ya go.\n",
      "Moe_Szyslak: ...Then we light a match...And FWOOOF! We start a new life in Hawaii.\n",
      "Renee: Goodbye, Moe.\n",
      "Moe_Szyslak: Where you goin', baby? You goin' to find the corpses?\n",
      "Renee: (SARCASTIC) Yes, Moe, I'm going to find corpses.\n",
      "Moe_Szyslak: Uh, well, you want me to come with? Renee? Dearest? (BEAT, THEN REALIZING MOAN) (SIGH) She ain't comin' back.\n",
      "Moe_Szyslak: (YELP OF PAIN) Ow.\n",
      "Moe_Szyslak: (HORRIFIED SCREAM) Uh-oh.\n",
      "Homer_Simpson: (MURDEROUSLY) You!\n",
      "Moe_Szyslak: Homer! Thank God, you gotta help me here!\n",
      "Homer_Simpson: Oh-ho, I'll help you. Help you die! (ATTACK YELL)\n",
      "Moe_Szyslak: Eh! That's it! You're going down, pal!\n",
      "Moe_Szyslak: Oh, boy... Uh, I really wanna sleep...\n",
      "Homer_Simpson: I... also sleep... G'night, Mommy...\n",
      "Barney_Gumble: Moe! Homer! (SCREAMS) The booze!\n",
      "Moe_Szyslak: Oh, Homer, I been the world's biggest rat. Can you ever forgive me?\n"
     ]
    }
   ],
   "source": [
    "view_sentence_range = (1000, 1200)\n",
    "\n",
    "\"\"\"\n",
    "DON'T MODIFY ANYTHING IN THIS CELL\n",
    "\"\"\"\n",
    "import numpy as np\n",
    "\n",
    "print('Dataset Stats')\n",
    "print('Roughly the number of unique words: {}'.format(len({word: None for word in text.split()})))\n",
    "scenes = text.split('\\n\\n')\n",
    "print('Number of scenes: {}'.format(len(scenes)))\n",
    "sentence_count_scene = [scene.count('\\n') for scene in scenes]\n",
    "print('Average number of sentences in each scene: {}'.format(np.average(sentence_count_scene)))\n",
    "\n",
    "sentences = [sentence for scene in scenes for sentence in scene.split('\\n')]\n",
    "print('Number of lines: {}'.format(len(sentences)))\n",
    "word_count_sentence = [len(sentence.split()) for sentence in sentences]\n",
    "print('Average number of words in each line: {}'.format(np.average(word_count_sentence)))\n",
    "\n",
    "print()\n",
    "print('The sentences {} to {}:'.format(*view_sentence_range))\n",
    "print('\\n'.join(text.split('\\n')[view_sentence_range[0]:view_sentence_range[1]]))"
   ]
  },
  {
   "cell_type": "markdown",
   "metadata": {},
   "source": [
    "## Implement Preprocessing Functions\n",
    "The first thing to do to any dataset is preprocessing.  Implement the following preprocessing functions below:\n",
    "- Lookup Table\n",
    "- Tokenize Punctuation\n",
    "\n",
    "### Lookup Table\n",
    "To create a word embedding, you first need to transform the words to ids.  In this function, create two dictionaries:\n",
    "- Dictionary to go from the words to an id, we'll call `vocab_to_int`\n",
    "- Dictionary to go from the id to word, we'll call `int_to_vocab`\n",
    "\n",
    "Return these dictionaries in the following tuple `(vocab_to_int, int_to_vocab)`"
   ]
  },
  {
   "cell_type": "code",
   "execution_count": 3,
   "metadata": {},
   "outputs": [
    {
     "name": "stdout",
     "output_type": "stream",
     "text": [
      "Tests Passed\n"
     ]
    }
   ],
   "source": [
    "import numpy as np\n",
    "import problem_unittests as tests\n",
    "from collections import Counter\n",
    "\n",
    "def create_lookup_tables(text):\n",
    "    \"\"\"\n",
    "    Create lookup tables for vocabulary\n",
    "    :param text: The text of tv scripts split into words\n",
    "    :return: A tuple of dicts (vocab_to_int, int_to_vocab)\n",
    "    \"\"\"\n",
    "    word_counts = Counter(text)\n",
    "    sorted_vocab = sorted(word_counts, key=word_counts.get, reverse=True)\n",
    "    int_to_vocab = {ii: word for ii, word in enumerate(sorted_vocab)}\n",
    "    vocab_to_int = {word: ii for ii, word in int_to_vocab.items()}\n",
    "    return vocab_to_int, int_to_vocab\n",
    "\n",
    "\n",
    "\"\"\"\n",
    "DON'T MODIFY ANYTHING IN THIS CELL THAT IS BELOW THIS LINE\n",
    "\"\"\"\n",
    "tests.test_create_lookup_tables(create_lookup_tables)"
   ]
  },
  {
   "cell_type": "markdown",
   "metadata": {},
   "source": [
    "### Tokenize Punctuation\n",
    "We'll be splitting the script into a word array using spaces as delimiters.  However, punctuations like periods and exclamation marks make it hard for the neural network to distinguish between the word \"bye\" and \"bye!\".\n",
    "\n",
    "Implement the function `token_lookup` to return a dict that will be used to tokenize symbols like \"!\" into \"||Exclamation_Mark||\".  Create a dictionary for the following symbols where the symbol is the key and value is the token:\n",
    "- Period ( . )\n",
    "- Comma ( , )\n",
    "- Quotation Mark ( \" )\n",
    "- Semicolon ( ; )\n",
    "- Exclamation mark ( ! )\n",
    "- Question mark ( ? )\n",
    "- Left Parentheses ( ( )\n",
    "- Right Parentheses ( ) )\n",
    "- Dash ( -- )\n",
    "- Return ( \\n )\n",
    "\n",
    "This dictionary will be used to token the symbols and add the delimiter (space) around it.  This separates the symbols as it's own word, making it easier for the neural network to predict on the next word. Make sure you don't use a token that could be confused as a word. Instead of using the token \"dash\", try using something like \"||dash||\"."
   ]
  },
  {
   "cell_type": "code",
   "execution_count": 4,
   "metadata": {},
   "outputs": [
    {
     "name": "stdout",
     "output_type": "stream",
     "text": [
      "Tests Passed\n"
     ]
    }
   ],
   "source": [
    "def token_lookup():\n",
    "    \"\"\"\n",
    "    Generate a dict to turn punctuation into a token.\n",
    "    :return: Tokenize dictionary where the key is the punctuation and the value is the token\n",
    "    \"\"\"\n",
    "    dict = {\n",
    "        \".\" : \"||Period||\",\n",
    "        \",\" : \"||Comma||\",\n",
    "        '\"' : \"||Quotation_Mark||\",\n",
    "        \";\" : \"||Semicolon||\",\n",
    "        \"!\" : \"||Exclamation_Mark||\",\n",
    "        \"?\" : \"||Question_Mark||\",\n",
    "        \"(\" : \"||Left_Parentheses||\",\n",
    "        \")\" : \"||Right_Parentheses||\",\n",
    "        \"--\" : \"||Dash||\",\n",
    "        \"\\n\" : \"||Return||\"\n",
    "    }\n",
    "    return dict\n",
    "\n",
    "\"\"\"\n",
    "DON'T MODIFY ANYTHING IN THIS CELL THAT IS BELOW THIS LINE\n",
    "\"\"\"\n",
    "tests.test_tokenize(token_lookup)"
   ]
  },
  {
   "cell_type": "markdown",
   "metadata": {},
   "source": [
    "## Preprocess all the data and save it\n",
    "Running the code cell below will preprocess all the data and save it to file."
   ]
  },
  {
   "cell_type": "code",
   "execution_count": 5,
   "metadata": {},
   "outputs": [],
   "source": [
    "\"\"\"\n",
    "DON'T MODIFY ANYTHING IN THIS CELL\n",
    "\"\"\"\n",
    "# Preprocess Training, Validation, and Testing Data\n",
    "helper.preprocess_and_save_data(data_dir, token_lookup, create_lookup_tables)"
   ]
  },
  {
   "cell_type": "markdown",
   "metadata": {},
   "source": [
    "# Check Point\n",
    "This is your first checkpoint. If you ever decide to come back to this notebook or have to restart the notebook, you can start from here. The preprocessed data has been saved to disk."
   ]
  },
  {
   "cell_type": "code",
   "execution_count": 6,
   "metadata": {},
   "outputs": [],
   "source": [
    "\"\"\"\n",
    "DON'T MODIFY ANYTHING IN THIS CELL\n",
    "\"\"\"\n",
    "import helper\n",
    "import numpy as np\n",
    "import problem_unittests as tests\n",
    "\n",
    "int_text, vocab_to_int, int_to_vocab, token_dict = helper.load_preprocess()"
   ]
  },
  {
   "cell_type": "markdown",
   "metadata": {},
   "source": [
    "## Build the Neural Network\n",
    "You'll build the components necessary to build a RNN by implementing the following functions below:\n",
    "- get_inputs\n",
    "- get_init_cell\n",
    "- get_embed\n",
    "- build_rnn\n",
    "- build_nn\n",
    "- get_batches\n",
    "\n",
    "### Check the Version of TensorFlow and Access to GPU"
   ]
  },
  {
   "cell_type": "code",
   "execution_count": 7,
   "metadata": {},
   "outputs": [
    {
     "name": "stdout",
     "output_type": "stream",
     "text": [
      "TensorFlow Version: 1.8.0\n",
      "Default GPU Device: /device:GPU:0\n"
     ]
    }
   ],
   "source": [
    "\"\"\"\n",
    "DON'T MODIFY ANYTHING IN THIS CELL\n",
    "\"\"\"\n",
    "from distutils.version import LooseVersion\n",
    "import warnings\n",
    "import tensorflow as tf\n",
    "\n",
    "# Check TensorFlow Version\n",
    "assert LooseVersion(tf.__version__) >= LooseVersion('1.3'), 'Please use TensorFlow version 1.3 or newer'\n",
    "print('TensorFlow Version: {}'.format(tf.__version__))\n",
    "\n",
    "# Check for a GPU\n",
    "if not tf.test.gpu_device_name():\n",
    "    warnings.warn('No GPU found. Please use a GPU to train your neural network.')\n",
    "else:\n",
    "    print('Default GPU Device: {}'.format(tf.test.gpu_device_name()))"
   ]
  },
  {
   "cell_type": "markdown",
   "metadata": {},
   "source": [
    "### Input\n",
    "Implement the `get_inputs()` function to create TF Placeholders for the Neural Network.  It should create the following placeholders:\n",
    "- Input text placeholder named \"input\" using the [TF Placeholder](https://www.tensorflow.org/api_docs/python/tf/placeholder) `name` parameter.\n",
    "- Targets placeholder\n",
    "- Learning Rate placeholder\n",
    "\n",
    "Return the placeholders in the following tuple `(Input, Targets, LearningRate)`"
   ]
  },
  {
   "cell_type": "code",
   "execution_count": 8,
   "metadata": {},
   "outputs": [
    {
     "name": "stdout",
     "output_type": "stream",
     "text": [
      "Tests Passed\n"
     ]
    }
   ],
   "source": [
    "def get_inputs():\n",
    "    \"\"\"\n",
    "    Create TF Placeholders for input, targets, and learning rate.\n",
    "    :return: Tuple (input, targets, learning rate)\n",
    "    \"\"\"\n",
    "    Input = tf.placeholder(tf.int32, shape=[None, None], name='input')\n",
    "    Targets = tf.placeholder(tf.int32, shape=[None, None])\n",
    "    LearningRate = tf.placeholder(tf.float32)\n",
    "    return Input, Targets, LearningRate\n",
    "\n",
    "\n",
    "\"\"\"\n",
    "DON'T MODIFY ANYTHING IN THIS CELL THAT IS BELOW THIS LINE\n",
    "\"\"\"\n",
    "tests.test_get_inputs(get_inputs)"
   ]
  },
  {
   "cell_type": "markdown",
   "metadata": {},
   "source": [
    "### Build RNN Cell and Initialize\n",
    "Stack one or more [`BasicLSTMCells`](https://www.tensorflow.org/api_docs/python/tf/contrib/rnn/BasicLSTMCell) in a [`MultiRNNCell`](https://www.tensorflow.org/api_docs/python/tf/contrib/rnn/MultiRNNCell).\n",
    "- The Rnn size should be set using `rnn_size`\n",
    "- Initalize Cell State using the MultiRNNCell's [`zero_state()`](https://www.tensorflow.org/api_docs/python/tf/contrib/rnn/MultiRNNCell#zero_state) function\n",
    "    - Apply the name \"initial_state\" to the initial state using [`tf.identity()`](https://www.tensorflow.org/api_docs/python/tf/identity)\n",
    "\n",
    "Return the cell and initial state in the following tuple `(Cell, InitialState)`"
   ]
  },
  {
   "cell_type": "code",
   "execution_count": 9,
   "metadata": {},
   "outputs": [
    {
     "name": "stdout",
     "output_type": "stream",
     "text": [
      "Tests Passed\n"
     ]
    }
   ],
   "source": [
    "def get_init_cell(batch_size, rnn_size):\n",
    "    \"\"\"\n",
    "    Create an RNN Cell and initialize it.\n",
    "    :param batch_size: Size of batches\n",
    "    :param rnn_size: Size of RNNs\n",
    "    :return: Tuple (cell, initialize state)\n",
    "    \"\"\"\n",
    "    num_layers = 2\n",
    "    LSTM = tf.contrib.rnn.BasicLSTMCell(rnn_size)\n",
    "    Cell = tf.contrib.rnn.MultiRNNCell([LSTM] * num_layers)\n",
    "    InitialState = Cell.zero_state(batch_size, tf.float32)\n",
    "    InitialState = tf.identity(InitialState, name='initial_state')\n",
    "    return Cell, InitialState \n",
    "\n",
    "\n",
    "\"\"\"\n",
    "DON'T MODIFY ANYTHING IN THIS CELL THAT IS BELOW THIS LINE\n",
    "\"\"\"\n",
    "tests.test_get_init_cell(get_init_cell)"
   ]
  },
  {
   "cell_type": "markdown",
   "metadata": {},
   "source": [
    "### Word Embedding\n",
    "Apply embedding to `input_data` using TensorFlow.  Return the embedded sequence."
   ]
  },
  {
   "cell_type": "code",
   "execution_count": 10,
   "metadata": {},
   "outputs": [
    {
     "name": "stdout",
     "output_type": "stream",
     "text": [
      "Tests Passed\n"
     ]
    }
   ],
   "source": [
    "def get_embed(input_data, vocab_size, embed_dim):\n",
    "    \"\"\"\n",
    "    Create embedding for <input_data>.\n",
    "    :param input_data: TF placeholder for text input.\n",
    "    :param vocab_size: Number of words in vocabulary.\n",
    "    :param embed_dim: Number of embedding dimensions\n",
    "    :return: Embedded input.\n",
    "    \"\"\"\n",
    "    return tf.nn.embedding_lookup(tf.Variable(tf.random_uniform((vocab_size, embed_dim), -1, 1)), input_data)\n",
    "\n",
    "\n",
    "\"\"\"\n",
    "DON'T MODIFY ANYTHING IN THIS CELL THAT IS BELOW THIS LINE\n",
    "\"\"\"\n",
    "tests.test_get_embed(get_embed)"
   ]
  },
  {
   "cell_type": "markdown",
   "metadata": {},
   "source": [
    "### Build RNN\n",
    "You created a RNN Cell in the `get_init_cell()` function.  Time to use the cell to create a RNN.\n",
    "- Build the RNN using the [`tf.nn.dynamic_rnn()`](https://www.tensorflow.org/api_docs/python/tf/nn/dynamic_rnn)\n",
    " - Apply the name \"final_state\" to the final state using [`tf.identity()`](https://www.tensorflow.org/api_docs/python/tf/identity)\n",
    "\n",
    "Return the outputs and final_state state in the following tuple `(Outputs, FinalState)` "
   ]
  },
  {
   "cell_type": "code",
   "execution_count": 11,
   "metadata": {},
   "outputs": [
    {
     "name": "stdout",
     "output_type": "stream",
     "text": [
      "Tests Passed\n"
     ]
    }
   ],
   "source": [
    "def build_rnn(cell, inputs):\n",
    "    \"\"\"\n",
    "    Create a RNN using a RNN Cell\n",
    "    :param cell: RNN Cell\n",
    "    :param inputs: Input text data\n",
    "    :return: Tuple (Outputs, Final State)\n",
    "    \"\"\"\n",
    "    Outputs, FinalState = tf.nn.dynamic_rnn(cell, inputs, dtype=tf.float32)\n",
    "    return (Outputs, tf.identity(FinalState, name='final_state'))\n",
    "\n",
    "\n",
    "\"\"\"\n",
    "DON'T MODIFY ANYTHING IN THIS CELL THAT IS BELOW THIS LINE\n",
    "\"\"\"\n",
    "tests.test_build_rnn(build_rnn)"
   ]
  },
  {
   "cell_type": "markdown",
   "metadata": {},
   "source": [
    "### Build the Neural Network\n",
    "Apply the functions you implemented above to:\n",
    "- Apply embedding to `input_data` using your `get_embed(input_data, vocab_size, embed_dim)` function.\n",
    "- Build RNN using `cell` and your `build_rnn(cell, inputs)` function.\n",
    "- Apply a fully connected layer with a linear activation and `vocab_size` as the number of outputs.\n",
    "\n",
    "Return the logits and final state in the following tuple (Logits, FinalState) "
   ]
  },
  {
   "cell_type": "code",
   "execution_count": 12,
   "metadata": {},
   "outputs": [
    {
     "name": "stdout",
     "output_type": "stream",
     "text": [
      "Tests Passed\n"
     ]
    }
   ],
   "source": [
    "def build_nn(cell, rnn_size, input_data, vocab_size, embed_dim):\n",
    "    \"\"\"\n",
    "    Build part of the neural network\n",
    "    :param cell: RNN cell\n",
    "    :param rnn_size: Size of rnns\n",
    "    :param input_data: Input data\n",
    "    :param vocab_size: Vocabulary size\n",
    "    :param embed_dim: Number of embedding dimensions\n",
    "    :return: Tuple (Logits, FinalState)\n",
    "    \"\"\"\n",
    "    EmbeddingLayer = get_embed(input_data, vocab_size, embed_dim)\n",
    "    (Outputs, FinalState) = build_rnn(cell, EmbeddingLayer)\n",
    "    Logits = tf.layers.dense(Outputs, vocab_size, activation= None, use_bias=True)\n",
    "    return (Logits, FinalState)\n",
    "\n",
    "\n",
    "\"\"\"\n",
    "DON'T MODIFY ANYTHING IN THIS CELL THAT IS BELOW THIS LINE\n",
    "\"\"\"\n",
    "tests.test_build_nn(build_nn)"
   ]
  },
  {
   "cell_type": "markdown",
   "metadata": {},
   "source": [
    "### Batches\n",
    "Implement `get_batches` to create batches of input and targets using `int_text`.  The batches should be a Numpy array with the shape `(number of batches, 2, batch size, sequence length)`. Each batch contains two elements:\n",
    "- The first element is a single batch of **input** with the shape `[batch size, sequence length]`\n",
    "- The second element is a single batch of **targets** with the shape `[batch size, sequence length]`\n",
    "\n",
    "If you can't fill the last batch with enough data, drop the last batch.\n",
    "\n",
    "For example, `get_batches([1, 2, 3, 4, 5, 6, 7, 8, 9, 10, 11, 12, 13, 14, 15, 16, 17, 18, 19, 20], 3, 2)` would return a Numpy array of the following:\n",
    "```\n",
    "[\n",
    "  # First Batch\n",
    "  [\n",
    "    # Batch of Input\n",
    "    [[ 1  2], [ 7  8], [13 14]]\n",
    "    # Batch of targets\n",
    "    [[ 2  3], [ 8  9], [14 15]]\n",
    "  ]\n",
    "\n",
    "  # Second Batch\n",
    "  [\n",
    "    # Batch of Input\n",
    "    [[ 3  4], [ 9 10], [15 16]]\n",
    "    # Batch of targets\n",
    "    [[ 4  5], [10 11], [16 17]]\n",
    "  ]\n",
    "\n",
    "  # Third Batch\n",
    "  [\n",
    "    # Batch of Input\n",
    "    [[ 5  6], [11 12], [17 18]]\n",
    "    # Batch of targets\n",
    "    [[ 6  7], [12 13], [18  1]]\n",
    "  ]\n",
    "]\n",
    "```\n",
    "\n",
    "Notice that the last target value in the last batch is the first input value of the first batch. In this case, `1`. This is a common technique used when creating sequence batches, although it is rather unintuitive."
   ]
  },
  {
   "cell_type": "code",
   "execution_count": 13,
   "metadata": {},
   "outputs": [
    {
     "name": "stdout",
     "output_type": "stream",
     "text": [
      "Tests Passed\n"
     ]
    }
   ],
   "source": [
    "# I don't like how this looks but it got the job done and I am a bit behind :( Will try and come back on this later\n",
    "def get_batches(int_text, batch_size, seq_length):\n",
    "    \"\"\"\n",
    "    Return batches of input and target\n",
    "    :param int_text: Text with the words replaced by their ids\n",
    "    :param batch_size: The size of batch\n",
    "    :param seq_length: The length of sequence\n",
    "    :return: Batches as a Numpy array\n",
    "    \"\"\"\n",
    "    Batches = len(int_text) // (batch_size  * seq_length)\n",
    "    int_text = int_text[:Batches * (batch_size  * seq_length)]\n",
    "\n",
    "    SequencesInputs = []\n",
    "    SequencesTargets =[]\n",
    "    i = 0\n",
    "    while i < (len(int_text)-1):\n",
    "        SequenceInput = []\n",
    "        SequenceTarget = []\n",
    "        for n in range(seq_length):\n",
    "            Index = i\n",
    "            SequenceInput.append(int_text[Index])\n",
    "            if(Index+1 >= len(int_text)):\n",
    "                SequenceTarget.append(int_text[Index-len(int_text)+1])\n",
    "            else:\n",
    "                SequenceTarget.append(int_text[Index+1])\n",
    "            i+=1\n",
    "        SequencesInputs.append(SequenceInput)\n",
    "        SequencesTargets.append(SequenceTarget)\n",
    "\n",
    "    Output = []\n",
    "\n",
    "    for k in range(Batches):\n",
    "        Output.append([[],[]])\n",
    "\n",
    "    for j in range(len(SequencesInputs)):\n",
    "        Index = j%Batches\n",
    "        Output[Index][0].append(SequencesInputs[j])\n",
    "        Output[Index][1].append(SequencesTargets[j])\n",
    "    return np.array(Output)\n",
    "\n",
    "\n",
    "\"\"\"\n",
    "DON'T MODIFY ANYTHING IN THIS CELL THAT IS BELOW THIS LINE\n",
    "\"\"\"\n",
    "tests.test_get_batches(get_batches)"
   ]
  },
  {
   "cell_type": "markdown",
   "metadata": {},
   "source": [
    "## Neural Network Training\n",
    "### Hyperparameters\n",
    "Tune the following parameters:\n",
    "\n",
    "- Set `num_epochs` to the number of epochs.\n",
    "- Set `batch_size` to the batch size.\n",
    "- Set `rnn_size` to the size of the RNNs.\n",
    "- Set `embed_dim` to the size of the embedding.\n",
    "- Set `seq_length` to the length of sequence.\n",
    "- Set `learning_rate` to the learning rate.\n",
    "- Set `show_every_n_batches` to the number of batches the neural network should print progress."
   ]
  },
  {
   "cell_type": "code",
   "execution_count": 25,
   "metadata": {},
   "outputs": [],
   "source": [
    "# Number of Epochs\n",
    "num_epochs = 100\n",
    "# Batch Size\n",
    "batch_size = 128\n",
    "# RNN Size\n",
    "rnn_size = 512\n",
    "# Embedding Dimension Size\n",
    "embed_dim = 512\n",
    "# Sequence Length\n",
    "seq_length = 16\n",
    "# Learning Rate\n",
    "learning_rate = 0.01\n",
    "# Show stats for every n number of batches\n",
    "show_every_n_batches = 100\n",
    "\n",
    "\"\"\"\n",
    "DON'T MODIFY ANYTHING IN THIS CELL THAT IS BELOW THIS LINE\n",
    "\"\"\"\n",
    "save_dir = './save'"
   ]
  },
  {
   "cell_type": "markdown",
   "metadata": {},
   "source": [
    "### Build the Graph\n",
    "Build the graph using the neural network you implemented."
   ]
  },
  {
   "cell_type": "code",
   "execution_count": 26,
   "metadata": {},
   "outputs": [],
   "source": [
    "\"\"\"\n",
    "DON'T MODIFY ANYTHING IN THIS CELL\n",
    "\"\"\"\n",
    "from tensorflow.contrib import seq2seq\n",
    "\n",
    "train_graph = tf.Graph()\n",
    "with train_graph.as_default():\n",
    "    vocab_size = len(int_to_vocab)\n",
    "    input_text, targets, lr = get_inputs()\n",
    "    input_data_shape = tf.shape(input_text)\n",
    "    cell, initial_state = get_init_cell(input_data_shape[0], rnn_size)\n",
    "    logits, final_state = build_nn(cell, rnn_size, input_text, vocab_size, embed_dim)\n",
    "\n",
    "    # Probabilities for generating words\n",
    "    probs = tf.nn.softmax(logits, name='probs')\n",
    "\n",
    "    # Loss function\n",
    "    cost = seq2seq.sequence_loss(\n",
    "        logits,\n",
    "        targets,\n",
    "        tf.ones([input_data_shape[0], input_data_shape[1]]))\n",
    "\n",
    "    # Optimizer\n",
    "    optimizer = tf.train.AdamOptimizer(lr)\n",
    "\n",
    "    # Gradient Clipping\n",
    "    gradients = optimizer.compute_gradients(cost)\n",
    "    capped_gradients = [(tf.clip_by_value(grad, -1., 1.), var) for grad, var in gradients if grad is not None]\n",
    "    train_op = optimizer.apply_gradients(capped_gradients)"
   ]
  },
  {
   "cell_type": "markdown",
   "metadata": {},
   "source": [
    "## Train\n",
    "Train the neural network on the preprocessed data.  If you have a hard time getting a good loss, check the [forums](https://discussions.udacity.com/) to see if anyone is having the same problem."
   ]
  },
  {
   "cell_type": "code",
   "execution_count": 27,
   "metadata": {},
   "outputs": [
    {
     "name": "stdout",
     "output_type": "stream",
     "text": [
      "Epoch   0 Batch    0/33   train_loss = 8.821\n",
      "Epoch   3 Batch    1/33   train_loss = 4.902\n",
      "Epoch   6 Batch    2/33   train_loss = 4.177\n",
      "Epoch   9 Batch    3/33   train_loss = 3.535\n",
      "Epoch  12 Batch    4/33   train_loss = 3.045\n",
      "Epoch  15 Batch    5/33   train_loss = 2.300\n",
      "Epoch  18 Batch    6/33   train_loss = 1.842\n",
      "Epoch  21 Batch    7/33   train_loss = 1.477\n",
      "Epoch  24 Batch    8/33   train_loss = 1.187\n",
      "Epoch  27 Batch    9/33   train_loss = 0.927\n",
      "Epoch  30 Batch   10/33   train_loss = 0.683\n",
      "Epoch  33 Batch   11/33   train_loss = 0.559\n",
      "Epoch  36 Batch   12/33   train_loss = 0.437\n",
      "Epoch  39 Batch   13/33   train_loss = 0.363\n",
      "Epoch  42 Batch   14/33   train_loss = 0.309\n",
      "Epoch  45 Batch   15/33   train_loss = 0.234\n",
      "Epoch  48 Batch   16/33   train_loss = 0.218\n",
      "Epoch  51 Batch   17/33   train_loss = 0.204\n",
      "Epoch  54 Batch   18/33   train_loss = 0.194\n",
      "Epoch  57 Batch   19/33   train_loss = 0.220\n",
      "Epoch  60 Batch   20/33   train_loss = 0.234\n",
      "Epoch  63 Batch   21/33   train_loss = 0.198\n",
      "Epoch  66 Batch   22/33   train_loss = 0.215\n",
      "Epoch  69 Batch   23/33   train_loss = 0.197\n",
      "Epoch  72 Batch   24/33   train_loss = 0.191\n",
      "Epoch  75 Batch   25/33   train_loss = 0.195\n",
      "Epoch  78 Batch   26/33   train_loss = 0.195\n",
      "Epoch  81 Batch   27/33   train_loss = 0.230\n",
      "Epoch  84 Batch   28/33   train_loss = 0.209\n",
      "Epoch  87 Batch   29/33   train_loss = 0.223\n",
      "Epoch  90 Batch   30/33   train_loss = 0.185\n",
      "Epoch  93 Batch   31/33   train_loss = 0.200\n",
      "Epoch  96 Batch   32/33   train_loss = 0.225\n",
      "Model Trained and Saved\n"
     ]
    }
   ],
   "source": [
    "\"\"\"\n",
    "DON'T MODIFY ANYTHING IN THIS CELL\n",
    "\"\"\"\n",
    "batches = get_batches(int_text, batch_size, seq_length)\n",
    "\n",
    "with tf.Session(graph=train_graph) as sess:\n",
    "    sess.run(tf.global_variables_initializer())\n",
    "\n",
    "    for epoch_i in range(num_epochs):\n",
    "        state = sess.run(initial_state, {input_text: batches[0][0]})\n",
    "\n",
    "        for batch_i, (x, y) in enumerate(batches):\n",
    "            feed = {\n",
    "                input_text: x,\n",
    "                targets: y,\n",
    "                initial_state: state,\n",
    "                lr: learning_rate}\n",
    "            train_loss, state, _ = sess.run([cost, final_state, train_op], feed)\n",
    "\n",
    "            # Show every <show_every_n_batches> batches\n",
    "            if (epoch_i * len(batches) + batch_i) % show_every_n_batches == 0:\n",
    "                print('Epoch {:>3} Batch {:>4}/{}   train_loss = {:.3f}'.format(\n",
    "                    epoch_i,\n",
    "                    batch_i,\n",
    "                    len(batches),\n",
    "                    train_loss))\n",
    "\n",
    "    # Save Model\n",
    "    saver = tf.train.Saver()\n",
    "    saver.save(sess, save_dir)\n",
    "    print('Model Trained and Saved')"
   ]
  },
  {
   "cell_type": "markdown",
   "metadata": {},
   "source": [
    "## Save Parameters\n",
    "Save `seq_length` and `save_dir` for generating a new TV script."
   ]
  },
  {
   "cell_type": "code",
   "execution_count": 28,
   "metadata": {},
   "outputs": [],
   "source": [
    "\"\"\"\n",
    "DON'T MODIFY ANYTHING IN THIS CELL\n",
    "\"\"\"\n",
    "# Save parameters for checkpoint\n",
    "helper.save_params((seq_length, save_dir))"
   ]
  },
  {
   "cell_type": "markdown",
   "metadata": {},
   "source": [
    "# Checkpoint"
   ]
  },
  {
   "cell_type": "code",
   "execution_count": 29,
   "metadata": {},
   "outputs": [],
   "source": [
    "\"\"\"\n",
    "DON'T MODIFY ANYTHING IN THIS CELL\n",
    "\"\"\"\n",
    "import tensorflow as tf\n",
    "import numpy as np\n",
    "import helper\n",
    "import problem_unittests as tests\n",
    "\n",
    "_, vocab_to_int, int_to_vocab, token_dict = helper.load_preprocess()\n",
    "seq_length, load_dir = helper.load_params()"
   ]
  },
  {
   "cell_type": "markdown",
   "metadata": {},
   "source": [
    "## Implement Generate Functions\n",
    "### Get Tensors\n",
    "Get tensors from `loaded_graph` using the function [`get_tensor_by_name()`](https://www.tensorflow.org/api_docs/python/tf/Graph#get_tensor_by_name).  Get the tensors using the following names:\n",
    "- \"input:0\"\n",
    "- \"initial_state:0\"\n",
    "- \"final_state:0\"\n",
    "- \"probs:0\"\n",
    "\n",
    "Return the tensors in the following tuple `(InputTensor, InitialStateTensor, FinalStateTensor, ProbsTensor)` "
   ]
  },
  {
   "cell_type": "code",
   "execution_count": 31,
   "metadata": {},
   "outputs": [
    {
     "name": "stdout",
     "output_type": "stream",
     "text": [
      "Tests Passed\n"
     ]
    }
   ],
   "source": [
    "def get_tensors(loaded_graph):\n",
    "    \"\"\"\n",
    "    Get input, initial state, final state, and probabilities tensor from <loaded_graph>\n",
    "    :param loaded_graph: TensorFlow graph loaded from file\n",
    "    :return: Tuple (InputTensor, InitialStateTensor, FinalStateTensor, ProbsTensor)\n",
    "    \"\"\"\n",
    "    return (\n",
    "        loaded_graph.get_tensor_by_name('input:0'),\n",
    "        loaded_graph.get_tensor_by_name('initial_state:0'), \n",
    "        loaded_graph.get_tensor_by_name('final_state:0'), \n",
    "        loaded_graph.get_tensor_by_name('probs:0')\n",
    "    )\n",
    "\n",
    "\n",
    "\"\"\"\n",
    "DON'T MODIFY ANYTHING IN THIS CELL THAT IS BELOW THIS LINE\n",
    "\"\"\"\n",
    "tests.test_get_tensors(get_tensors)"
   ]
  },
  {
   "cell_type": "markdown",
   "metadata": {},
   "source": [
    "### Choose Word\n",
    "Implement the `pick_word()` function to select the next word using `probabilities`."
   ]
  },
  {
   "cell_type": "code",
   "execution_count": 32,
   "metadata": {},
   "outputs": [
    {
     "name": "stdout",
     "output_type": "stream",
     "text": [
      "Tests Passed\n"
     ]
    }
   ],
   "source": [
    "def pick_word(probabilities, int_to_vocab):\n",
    "    \"\"\"\n",
    "    Pick the next word in the generated text\n",
    "    :param probabilities: Probabilites of the next word\n",
    "    :param int_to_vocab: Dictionary of word ids as the keys and words as the values\n",
    "    :return: String of the predicted word\n",
    "    \"\"\"\n",
    "    Word = int_to_vocab[np.argmax(probabilities)]\n",
    "    return Word\n",
    "\n",
    "\n",
    "\"\"\"\n",
    "DON'T MODIFY ANYTHING IN THIS CELL THAT IS BELOW THIS LINE\n",
    "\"\"\"\n",
    "tests.test_pick_word(pick_word)"
   ]
  },
  {
   "cell_type": "markdown",
   "metadata": {},
   "source": [
    "## Generate TV Script\n",
    "This will generate the TV script for you.  Set `gen_length` to the length of TV script you want to generate."
   ]
  },
  {
   "cell_type": "code",
   "execution_count": 33,
   "metadata": {},
   "outputs": [
    {
     "name": "stdout",
     "output_type": "stream",
     "text": [
      "INFO:tensorflow:Restoring parameters from ./save\n",
      "moe_szyslak:(lifts index finger) to the scooter store!\n",
      "moe_szyslak: i did not think of that way they wanted it.\n",
      "homer_simpson:(joking) yeah.\n",
      "\n",
      "\n",
      "homer_simpson:(excited) and man, you know, moe, i understand they said the greatest.\n",
      "homer_simpson: so...\n",
      "moe_szyslak: ah, that's the best for moe!\n",
      "barney_gumble: hey, anybody seen you\" like\" means\" eventually\" is\" of us.\n",
      "barney_gumble: it was maybe i am.\n",
      "carl_carlson:(annoyed) you tell you, of course.\n",
      "moe_szyslak: i see.\n",
      "carl_carlson: i'm not gonna let anything happen to me.\n",
      "moe_szyslak:(to self, in awe) nah. you got a wife. i got a mistake thing to find out.\n",
      "lenny_leonard: you know, ever without me.\n",
      "moe_szyslak: oh my god! santa brought me just transfer a crime, homer.\n",
      "homer_simpson: you know, moe, when there's to the brother, moe.\n",
      "moe_szyslak: you know, moe, my ma's coming in from\n"
     ]
    }
   ],
   "source": [
    "gen_length = 200\n",
    "# homer_simpson, moe_szyslak, or Barney_Gumble\n",
    "prime_word = 'moe_szyslak'\n",
    "\n",
    "\"\"\"\n",
    "DON'T MODIFY ANYTHING IN THIS CELL THAT IS BELOW THIS LINE\n",
    "\"\"\"\n",
    "loaded_graph = tf.Graph()\n",
    "with tf.Session(graph=loaded_graph) as sess:\n",
    "    # Load saved model\n",
    "    loader = tf.train.import_meta_graph(load_dir + '.meta')\n",
    "    loader.restore(sess, load_dir)\n",
    "\n",
    "    # Get Tensors from loaded model\n",
    "    input_text, initial_state, final_state, probs = get_tensors(loaded_graph)\n",
    "\n",
    "    # Sentences generation setup\n",
    "    gen_sentences = [prime_word + ':']\n",
    "    prev_state = sess.run(initial_state, {input_text: np.array([[1]])})\n",
    "\n",
    "    # Generate sentences\n",
    "    for n in range(gen_length):\n",
    "        # Dynamic Input\n",
    "        dyn_input = [[vocab_to_int[word] for word in gen_sentences[-seq_length:]]]\n",
    "        dyn_seq_length = len(dyn_input[0])\n",
    "\n",
    "        # Get Prediction\n",
    "        probabilities, prev_state = sess.run(\n",
    "            [probs, final_state],\n",
    "            {input_text: dyn_input, initial_state: prev_state})\n",
    "        \n",
    "        pred_word = pick_word(probabilities[0][dyn_seq_length-1], int_to_vocab)\n",
    "\n",
    "        gen_sentences.append(pred_word)\n",
    "    \n",
    "    # Remove tokens\n",
    "    tv_script = ' '.join(gen_sentences)\n",
    "    for key, token in token_dict.items():\n",
    "        ending = ' ' if key in ['\\n', '(', '\"'] else ''\n",
    "        tv_script = tv_script.replace(' ' + token.lower(), key)\n",
    "    tv_script = tv_script.replace('\\n ', '\\n')\n",
    "    tv_script = tv_script.replace('( ', '(')\n",
    "        \n",
    "    print(tv_script)"
   ]
  },
  {
   "cell_type": "markdown",
   "metadata": {},
   "source": [
    "# The TV Script is Nonsensical\n",
    "It's ok if the TV script doesn't make any sense.  We trained on less than a megabyte of text.  In order to get good results, you'll have to use a smaller vocabulary or get more data.  Luckily there's more data!  As we mentioned in the beggining of this project, this is a subset of [another dataset](https://www.kaggle.com/wcukierski/the-simpsons-by-the-data).  We didn't have you train on all the data, because that would take too long.  However, you are free to train your neural network on all the data.  After you complete the project, of course.\n",
    "# Submitting This Project\n",
    "When submitting this project, make sure to run all the cells before saving the notebook. Save the notebook file as \"dlnd_tv_script_generation.ipynb\" and save it as a HTML file under \"File\" -> \"Download as\". Include the \"helper.py\" and \"problem_unittests.py\" files in your submission."
   ]
  }
 ],
 "metadata": {
  "kernelspec": {
   "display_name": "Python 3",
   "language": "python",
   "name": "python3"
  },
  "language_info": {
   "codemirror_mode": {
    "name": "ipython",
    "version": 3
   },
   "file_extension": ".py",
   "mimetype": "text/x-python",
   "name": "python",
   "nbconvert_exporter": "python",
   "pygments_lexer": "ipython3",
   "version": "3.6.5"
  },
  "widgets": {
   "state": {},
   "version": "1.1.2"
  }
 },
 "nbformat": 4,
 "nbformat_minor": 1
}
